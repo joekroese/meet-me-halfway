{
 "cells": [
  {
   "cell_type": "code",
   "execution_count": 172,
   "metadata": {
    "collapsed": true
   },
   "outputs": [],
   "source": [
    "import requests\n",
    "import pandas as pd\n",
    "import json\n",
    "from pprint import pprint"
   ]
  },
  {
   "cell_type": "code",
   "execution_count": 173,
   "metadata": {
    "collapsed": true
   },
   "outputs": [],
   "source": [
    "#requests.get(\"http://partners.api.skyscanner.net/apiservices/\")"
   ]
  },
  {
   "cell_type": "code",
   "execution_count": 174,
   "metadata": {
    "collapsed": false
   },
   "outputs": [],
   "source": [
    "api_key= \"ha177649362715475514428886582394\""
   ]
  },
  {
   "cell_type": "code",
   "execution_count": 175,
   "metadata": {
    "collapsed": true
   },
   "outputs": [],
   "source": [
    "refurl = \"http://partners.api.skyscanner.net/apiservices/reference/v1.0/\"\n",
    "basicurl = 'http://partners.api.skyscanner.net/apiservices/browsequotes/v1.0/'"
   ]
  },
  {
   "cell_type": "code",
   "execution_count": 176,
   "metadata": {
    "collapsed": false
   },
   "outputs": [
    {
     "name": "stdout",
     "output_type": "stream",
     "text": [
      "['ar-AE', 'az-AZ', 'bg-BG', 'ca-ES', 'cs-CZ', 'da-DK', 'de-DE', 'el-GR', 'en-GB', 'en-GG', 'en-US', 'es-ES', 'es-MX', 'et-EE', 'fi-FI', 'fr-FR', 'hr-HR', 'hu-HU', 'id-ID', 'it-IT', 'ja-JP', 'ko-KR', 'lt-LT', 'lv-LV', 'ms-MY', 'nb-NO', 'nl-NL', 'pl-PL', 'pt-BR', 'pt-PT', 'ro-RO', 'ru-RU', 'sk-SK', 'sv-SE', 'th-TH', 'tl-PH', 'tr-TR', 'uk-UA', 'vi-VN', 'zh-CN', 'zh-HK', 'zh-SG', 'zh-TW']\n"
     ]
    }
   ],
   "source": [
    "locdata = {'Code':\"codeval\",\"Name\":\"nameval\"}\n",
    "localesreq = requests.get(refurl + \"locales?apiKey=\" + api_key, data= locdata)\n",
    "localesreq = json.loads(localesreq.text)\n",
    "\n",
    "localecodes = []\n",
    "localenames = []\n",
    "i=0\n",
    "while i<len(localesreq['Locales']):\n",
    "    localenames.append(localesreq[\"Locales\"][i][\"Name\"])\n",
    "    localecodes.append(localesreq['Locales'][i][\"Code\"])\n",
    "    i+=1\n",
    "print(localecodes)\n",
    "\n"
   ]
  },
  {
   "cell_type": "code",
   "execution_count": 177,
   "metadata": {
    "collapsed": false
   },
   "outputs": [
    {
     "name": "stdout",
     "output_type": "stream",
     "text": [
      "['AED', 'AFN', 'ALL', 'AMD', 'ANG', 'AOA', 'ARS', 'AUD', 'AWG', 'AZN', 'BAM', 'BBD', 'BDT', 'BGN', 'BHD', 'BIF', 'BMD', 'BND', 'BOB', 'BRL', 'BSD', 'BTN', 'BWP', 'BYN', 'BZD', 'CAD', 'CDF', 'CHF', 'CLP', 'CNY', 'COP', 'CRC', 'CUC', 'CUP', 'CVE', 'CZK', 'DJF', 'DKK', 'DOP', 'DZD', 'EGP', 'ERN', 'ETB', 'EUR', 'FJD', 'GBP', 'GEL', 'GHS', 'GIP', 'GMD', 'GNF', 'GTQ', 'GYD', 'HKD', 'HNL', 'HRK', 'HTG', 'HUF', 'IDR', 'ILS', 'INR', 'IQD', 'IRR', 'ISK', 'JMD', 'JOD', 'JPY', 'KES', 'KGS', 'KHR', 'KMF', 'KPW', 'KRW', 'KWD', 'KYD', 'KZT', 'LAK', 'LBP', 'LKR', 'LRD', 'LSL', 'LYD', 'MAD', 'MDL', 'MGA', 'MKD', 'MMK', 'MNT', 'MOP', 'MRO', 'MUR', 'MVR', 'MWK', 'MXN', 'MYR', 'MZN', 'NAD', 'NGN', 'NIO', 'NOK', 'NPR', 'NZD', 'OMR', 'PAB', 'PEN', 'PGK', 'PHP', 'PKR', 'PLN', 'PYG', 'QAR', 'RON', 'RSD', 'RUB', 'RWF', 'SAR', 'SBD', 'SCR', 'SDG', 'SEK', 'SGD', 'SHP', 'SLL', 'SOS', 'SRD', 'STD', 'SYP', 'SZL', 'THB', 'TJS', 'TMT', 'TND', 'TOP', 'TRY', 'TTD', 'TWD', 'TZS', 'UAH', 'UGX', 'USD', 'UYU', 'UZS', 'VND', 'VUV', 'WST', 'XAF', 'XCD', 'XOF', 'XPF', 'YER', 'ZAR', 'ZMW']\n"
     ]
    }
   ],
   "source": [
    "currencies = requests.get(refurl + \"currencies?apiKey=\" +api_key)\n",
    "currencies = json.loads(currencies.text)\n",
    "\n",
    "currcodes = []\n",
    "currsymbols = []\n",
    "currthousep = []\n",
    "currdecsep = []\n",
    "currsymleft = []\n",
    "currspace = []\n",
    "currroundcoeff = []\n",
    "currdecdigits = []\n",
    "i=0\n",
    "while i<len(currencies[\"Currencies\"]):\n",
    "    currcodes.append(currencies[\"Currencies\"][i][\"Code\"])\n",
    "    currsymbols.append(currencies[\"Currencies\"][i][\"Symbol\"])\n",
    "    currthousep.append(currencies[\"Currencies\"][i][\"ThousandsSeparator\"])\n",
    "    currdecsep.append(currencies[\"Currencies\"][i][\"DecimalSeparator\"])\n",
    "    currsymleft.append(currencies[\"Currencies\"][i][\"SymbolOnLeft\"])\n",
    "    currspace.append(currencies[\"Currencies\"][i][\"SpaceBetweenAmountAndSymbol\"])\n",
    "    currroundcoeff.append(currencies[\"Currencies\"][i][\"RoundingCoefficient\"])\n",
    "    currdecdigits.append(currencies[\"Currencies\"][i][\"DecimalDigits\"])\n",
    "    i+=1\n",
    "print(currcodes)"
   ]
  },
  {
   "cell_type": "code",
   "execution_count": null,
   "metadata": {
    "collapsed": false
   },
   "outputs": [
    {
     "name": "stdout",
     "output_type": "stream",
     "text": [
      "['AD', 'AE', 'AF', 'AG', 'AI', 'AL', 'AM', 'AO', 'AQ', 'AR', 'AS', 'AT', 'AU', 'AW', 'AZ', 'BA', 'BB', 'BD', 'BE', 'BF', 'BG', 'BH', 'BI', 'BJ', 'BL', 'BM', 'BN', 'BO', 'BQ', 'BR', 'BS', 'BT', 'BW', 'BY', 'BZ', 'CA', 'CC', 'CD', 'CF', 'CG', 'CH', 'CI', 'CK', 'CL', 'CM', 'CN', 'CO', 'CR', 'CU', 'CV', 'CW', 'CX', 'CY', 'CZ', 'DE', 'DJ', 'DK', 'DM', 'DO', 'DZ', 'EC', 'EE', 'EG', 'ER', 'ES', 'ET', 'FI', 'FJ', 'FK', 'FM', 'FO', 'FR', 'GA', 'GD', 'GE', 'GF', 'GG', 'GH', 'GI', 'GL', 'GM', 'GN', 'GP', 'GQ', 'GR', 'GS', 'GT', 'GU', 'GW', 'GY', 'HK', 'HN', 'HR', 'HT', 'HU', 'ID', 'IE', 'IL', 'IN', 'IQ', 'IR', 'IS', 'IT', 'JM', 'JO', 'JP', 'KE', 'KG', 'KH', 'KI', 'KM', 'KN', 'KO', 'KP', 'KR', 'KW', 'KY', 'KZ', 'LA', 'LB', 'LC', 'LI', 'LK', 'LR', 'LS', 'LT', 'LU', 'LV', 'LY', 'MA', 'MC', 'MD', 'ME', 'MG', 'MH', 'MK', 'ML', 'MM', 'MN', 'MO', 'MP', 'MQ', 'MR', 'MS', 'MT', 'MU', 'MV', 'MW', 'MX', 'MY', 'MZ', 'NA', 'NC', 'NE', 'NG', 'NI', 'NL', 'NO', 'NP', 'NR', 'NU', 'NZ', 'OM', 'PA', 'PE', 'PF', 'PG', 'PH', 'PK', 'PL', 'PM', 'PR', 'PT', 'PW', 'PY', 'QA', 'RE', 'RO', 'RS', 'RU', 'RW', 'SA', 'SB', 'SC', 'SD', 'SE', 'SG', 'SH', 'SI', 'SK', 'SL', 'SN', 'SO', 'SR', 'SS', 'ST', 'SV', 'SX', 'SY', 'SZ', 'TC', 'TD', 'TG', 'TH', 'TJ', 'TL', 'TM', 'TN', 'TO', 'TR', 'TT', 'TV', 'TW', 'TZ', 'UA', 'UG', 'UK', 'US', 'UY', 'UZ', 'VA', 'VC', 'VE', 'VG', 'VI', 'VN', 'VU', 'WF', 'WS', 'YE', 'YT', 'ZA', 'ZM', 'ZW']\n"
     ]
    }
   ],
   "source": [
    "locale = localecodes[12]\n",
    "markets = requests.get(refurl + \"countries/\" + locale + \"?apiKey=\" + api_key)\n",
    "markets = json.loads(markets.text)\n",
    "\n",
    "marketcodes = []\n",
    "marketnames = []\n",
    "i=0\n",
    "while i<len(markets['Countries']):\n",
    "    marketnames.append(markets[\"Countries\"][i][\"Name\"])\n",
    "    marketcodes.append(markets['Countries'][i][\"Code\"])\n",
    "    i+=1\n",
    "print(marketcodes)\n",
    "countrieszip = zip(marketcodes,marketnames)\n",
    "countriesdict = {\"Codes\":marketcodes,\n",
    "                \"Names\":marketnames\n",
    "                }"
   ]
  },
  {
   "cell_type": "code",
   "execution_count": null,
   "metadata": {
    "collapsed": false
   },
   "outputs": [],
   "source": [
    "places = requests.get(\"http://partners.api.skyscanner.net/apiservices/geo/v1.0?apiKey=\"+api_key)\n",
    "places = json.loads(places.text)\n",
    "\n",
    "#print(places)"
   ]
  },
  {
   "cell_type": "code",
   "execution_count": null,
   "metadata": {
    "collapsed": false
   },
   "outputs": [],
   "source": [
    "country = marketcodes[4]\n",
    "originPlace = marketcodes[8]\n",
    "destinationPlace = marketcodes[12]\n",
    "in\n",
    "\n",
    "params = [country, currency, locale, originPlace, destinationPlace, inboundPartialDate]\n",
    "requrl=basicurl\n",
    "for element in params:\n",
    "    requrl = requrl + '/' + element\n",
    "requrl = requrl + '?apiKey=' + api_key\n",
    "browsequotes =  requests.get(requrl)\n"
   ]
  }
 ],
 "metadata": {
  "kernelspec": {
   "display_name": "Python 3",
   "language": "python",
   "name": "python3"
  },
  "language_info": {
   "codemirror_mode": {
    "name": "ipython",
    "version": 3
   },
   "file_extension": ".py",
   "mimetype": "text/x-python",
   "name": "python",
   "nbconvert_exporter": "python",
   "pygments_lexer": "ipython3",
   "version": "3.6.2"
  }
 },
 "nbformat": 4,
 "nbformat_minor": 2
}
