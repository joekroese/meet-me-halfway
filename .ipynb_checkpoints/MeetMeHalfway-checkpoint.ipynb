{
 "cells": [
  {
   "cell_type": "code",
   "execution_count": 1,
   "metadata": {
    "collapsed": true
   },
   "outputs": [],
   "source": [
    "import requests\n",
    "import pandas as pd\n",
    "import json\n",
    "from pprint import pprint\n",
    "import random"
   ]
  },
  {
   "cell_type": "code",
   "execution_count": 2,
   "metadata": {
    "collapsed": true
   },
   "outputs": [],
   "source": [
    "#requests.get(\"http://partners.api.skyscanner.net/apiservices/\")"
   ]
  },
  {
   "cell_type": "code",
   "execution_count": 3,
   "metadata": {
    "collapsed": false
   },
   "outputs": [],
   "source": [
    "api_key= \"ha177649362715475514428886582394\""
   ]
  },
  {
   "cell_type": "code",
   "execution_count": 4,
   "metadata": {
    "collapsed": true
   },
   "outputs": [],
   "source": [
    "refurl = \"http://partners.api.skyscanner.net/apiservices/reference/v1.0/\"\n",
    "basicurl = 'http://partners.api.skyscanner.net/apiservices/browsequotes/v1.0/'"
   ]
  },
  {
   "cell_type": "code",
   "execution_count": 5,
   "metadata": {
    "collapsed": false
   },
   "outputs": [
    {
     "name": "stdout",
     "output_type": "stream",
     "text": [
      "['ar-AE', 'az-AZ', 'bg-BG', 'ca-ES', 'cs-CZ', 'da-DK', 'de-DE', 'el-GR', 'en-GB', 'en-GG', 'en-US', 'es-ES', 'es-MX', 'et-EE', 'fi-FI', 'fr-FR', 'hr-HR', 'hu-HU', 'id-ID', 'it-IT', 'ja-JP', 'ko-KR', 'lt-LT', 'lv-LV', 'ms-MY', 'nb-NO', 'nl-NL', 'pl-PL', 'pt-BR', 'pt-PT', 'ro-RO', 'ru-RU', 'sk-SK', 'sv-SE', 'th-TH', 'tl-PH', 'tr-TR', 'uk-UA', 'vi-VN', 'zh-CN', 'zh-HK', 'zh-SG', 'zh-TW']\n"
     ]
    }
   ],
   "source": [
    "locdata = {'Code':\"codeval\",\"Name\":\"nameval\"}\n",
    "localesreq = requests.get(refurl + \"locales?apiKey=\" + api_key, data= locdata)\n",
    "localesreq = json.loads(localesreq.text)\n",
    "\n",
    "localecodes = []\n",
    "localenames = []\n",
    "i=0\n",
    "while i<len(localesreq['Locales']):\n",
    "    localenames.append(localesreq[\"Locales\"][i][\"Name\"])\n",
    "    localecodes.append(localesreq['Locales'][i][\"Code\"])\n",
    "    i+=1\n",
    "print(localecodes)\n",
    "\n"
   ]
  },
  {
   "cell_type": "code",
   "execution_count": 6,
   "metadata": {
    "collapsed": false
   },
   "outputs": [
    {
     "name": "stdout",
     "output_type": "stream",
     "text": [
      "GBP\n"
     ]
    }
   ],
   "source": [
    "currencies = requests.get(refurl + \"currencies?apiKey=\" +api_key)\n",
    "currencies = json.loads(currencies.text)\n",
    "\n",
    "currcodes = []\n",
    "currsymbols = []\n",
    "currthousep = []\n",
    "currdecsep = []\n",
    "currsymleft = []\n",
    "currspace = []\n",
    "currroundcoeff = []\n",
    "currdecdigits = []\n",
    "i=0\n",
    "while i<len(currencies[\"Currencies\"]):\n",
    "    currcodes.append(currencies[\"Currencies\"][i][\"Code\"])\n",
    "    currsymbols.append(currencies[\"Currencies\"][i][\"Symbol\"])\n",
    "    currthousep.append(currencies[\"Currencies\"][i][\"ThousandsSeparator\"])\n",
    "    currdecsep.append(currencies[\"Currencies\"][i][\"DecimalSeparator\"])\n",
    "    currsymleft.append(currencies[\"Currencies\"][i][\"SymbolOnLeft\"])\n",
    "    currspace.append(currencies[\"Currencies\"][i][\"SpaceBetweenAmountAndSymbol\"])\n",
    "    currroundcoeff.append(currencies[\"Currencies\"][i][\"RoundingCoefficient\"])\n",
    "    currdecdigits.append(currencies[\"Currencies\"][i][\"DecimalDigits\"])\n",
    "    i+=1\n",
    "print(currcodes[45])"
   ]
  },
  {
   "cell_type": "code",
   "execution_count": 7,
   "metadata": {
    "collapsed": false
   },
   "outputs": [],
   "source": [
    "locale = localecodes[8]\n",
    "markets = requests.get(refurl + \"countries/\" + locale + \"?apiKey=\" + api_key)\n",
    "markets = json.loads(markets.text)\n",
    "\n",
    "marketcodes = []\n",
    "marketnames = []\n",
    "i=0\n",
    "while i<len(markets['Countries']):\n",
    "    marketnames.append(markets[\"Countries\"][i][\"Name\"])\n",
    "    marketcodes.append(markets['Countries'][i][\"Code\"])\n",
    "    i+=1\n",
    "#print(marketcodes)\n",
    "countrieszip = zip(marketcodes,marketnames)\n",
    "countriesdict = {\"Codes\":marketcodes,\n",
    "                \"Names\":marketnames\n",
    "                }"
   ]
  },
  {
   "cell_type": "code",
   "execution_count": 8,
   "metadata": {
    "collapsed": false
   },
   "outputs": [],
   "source": [
    "places = requests.get(\"http://partners.api.skyscanner.net/apiservices/geo/v1.0?apiKey=\"+api_key)\n",
    "places = json.loads(places.text)\n",
    "\n",
    "#print(places)"
   ]
  },
  {
   "cell_type": "code",
   "execution_count": 9,
   "metadata": {
    "collapsed": false
   },
   "outputs": [],
   "source": [
    "airportids = []\n",
    "airportlocs = []\n",
    "airportnames = []\n",
    "airportcities = []\n",
    "airportcountries = []\n",
    "\n",
    "for continent in places[\"Continents\"]:\n",
    "    for country in continent[\"Countries\"]:\n",
    "        for city in country[\"Cities\"]:\n",
    "            for airport in city[\"Airports\"]:\n",
    "                airportids.append(airport[\"Id\"])\n",
    "                airportlocs.append(airport[\"Location\"])\n",
    "                airportnames.append(airport[\"Name\"])\n",
    "                airportcities.append(city[\"Name\"])\n",
    "                airportcountries.append(city[\"CountryId\"])\n",
    "                \n",
    "airportinfo = {\"AirportID\":airportids,\n",
    "               \"Airport Location\":airportlocs,\n",
    "               \"Airport Name\":airportnames,\n",
    "               \"Airport City\":airportcities,\n",
    "               \"Airport Country\":airportcountries\n",
    "              }\n",
    "\n",
    "#print(airportinfo)"
   ]
  },
  {
   "cell_type": "code",
   "execution_count": 60,
   "metadata": {
    "collapsed": false
   },
   "outputs": [
    {
     "name": "stdout",
     "output_type": "stream",
     "text": [
      "2930 2937\n",
      "Going from Greensboro / High Point in United States to Harrisburg International in United States\n",
      "{'Quotes': [], 'Places': [{'PlaceId': 54703, 'IataCode': 'GSO', 'Name': 'Greensboro / High Point', 'Type': 'Station', 'SkyscannerCode': 'GSO', 'CityName': 'Greensboro / High Point', 'CityId': 'GSOA', 'CountryName': 'United States'}, {'PlaceId': 67812, 'IataCode': 'MDT', 'Name': 'Harrisburg International', 'Type': 'Station', 'SkyscannerCode': 'MDT', 'CityName': 'Harrisburg', 'CityId': 'HARA', 'CountryName': 'United States'}], 'Carriers': [{'CarrierId': 1793, 'Name': 'United'}], 'Currencies': [{'Code': 'GBP', 'Symbol': 'Â£', 'ThousandsSeparator': ',', 'DecimalSeparator': '.', 'SymbolOnLeft': True, 'SpaceBetweenAmountAndSymbol': False, 'RoundingCoefficient': 0, 'DecimalDigits': 2}]}\n"
     ]
    }
   ],
   "source": [
    "country = marketcodes[4]\n",
    "currency = currcodes[45]\n",
    "k = random.randint(0,len(airportnames)-1) #origin index\n",
    "q = random.randint(0,len(airportnames)-1) #destination index\n",
    "print(k,q)\n",
    "originPlace = airportids[k]\n",
    "destinationPlace = airportids[q]\n",
    "print(\"Going from \"+ airportnames[k] + \" in \" + \n",
    "      marketnames[marketcodes.index(airportcountries[k])]\n",
    "      + \" to \" + airportnames[q] + \" in \" + \n",
    "      marketnames[marketcodes.index(airportcountries[q])])\n",
    "outboundPartialDate = \"2017-11-13\"\n",
    "params = [country, currency, locale, originPlace, destinationPlace, outboundPartialDate]\n",
    "requrl=basicurl\n",
    "for element in params:\n",
    "    requrl = requrl + '/' + element\n",
    "requrl = requrl + '?apiKey=' + api_key\n",
    "browsequotes =  requests.get(requrl)\n",
    "browsequotes = json.loads(browsequotes.text)\n",
    "print(browsequotes)"
   ]
  },
  {
   "cell_type": "code",
   "execution_count": null,
   "metadata": {
    "collapsed": true
   },
   "outputs": [],
   "source": []
  }
 ],
 "metadata": {
  "kernelspec": {
   "display_name": "Python 3",
   "language": "python",
   "name": "python3"
  },
  "language_info": {
   "codemirror_mode": {
    "name": "ipython",
    "version": 3
   },
   "file_extension": ".py",
   "mimetype": "text/x-python",
   "name": "python",
   "nbconvert_exporter": "python",
   "pygments_lexer": "ipython3",
   "version": "3.6.2"
  }
 },
 "nbformat": 4,
 "nbformat_minor": 2
}
