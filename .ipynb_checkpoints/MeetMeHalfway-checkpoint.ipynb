{
 "cells": [
  {
   "cell_type": "code",
   "execution_count": 163,
   "metadata": {
    "collapsed": true
   },
   "outputs": [],
   "source": [
    "import requests\n",
    "import pandas as pd\n",
    "import json\n",
    "from pprint import pprint\n",
    "import random"
   ]
  },
  {
   "cell_type": "code",
   "execution_count": 164,
   "metadata": {
    "collapsed": true
   },
   "outputs": [],
   "source": [
    "#requests.get(\"http://partners.api.skyscanner.net/apiservices/\")"
   ]
  },
  {
   "cell_type": "code",
   "execution_count": 165,
   "metadata": {
    "collapsed": false
   },
   "outputs": [],
   "source": [
    "api_key= \"ha177649362715475514428886582394\""
   ]
  },
  {
   "cell_type": "code",
   "execution_count": 166,
   "metadata": {
    "collapsed": true
   },
   "outputs": [],
   "source": [
    "refurl = \"http://partners.api.skyscanner.net/apiservices/reference/v1.0/\"\n",
    "basicurl = 'http://partners.api.skyscanner.net/apiservices/browsequotes/v1.0/'"
   ]
  },
  {
   "cell_type": "code",
   "execution_count": 167,
   "metadata": {
    "collapsed": false
   },
   "outputs": [
    {
     "name": "stdout",
     "output_type": "stream",
     "text": [
      "['ar-AE', 'az-AZ', 'bg-BG', 'ca-ES', 'cs-CZ', 'da-DK', 'de-DE', 'el-GR', 'en-GB', 'en-GG', 'en-US', 'es-ES', 'es-MX', 'et-EE', 'fi-FI', 'fr-FR', 'hr-HR', 'hu-HU', 'id-ID', 'it-IT', 'ja-JP', 'ko-KR', 'lt-LT', 'lv-LV', 'ms-MY', 'nb-NO', 'nl-NL', 'pl-PL', 'pt-BR', 'pt-PT', 'ro-RO', 'ru-RU', 'sk-SK', 'sv-SE', 'th-TH', 'tl-PH', 'tr-TR', 'uk-UA', 'vi-VN', 'zh-CN', 'zh-HK', 'zh-SG', 'zh-TW']\n"
     ]
    }
   ],
   "source": [
    "locdata = {'Code':\"codeval\",\"Name\":\"nameval\"}\n",
    "localesreq = requests.get(refurl + \"locales?apiKey=\" + api_key, data= locdata)\n",
    "localesreq = json.loads(localesreq.text)\n",
    "\n",
    "localecodes = []\n",
    "localenames = []\n",
    "i=0\n",
    "while i<len(localesreq['Locales']):\n",
    "    localenames.append(localesreq[\"Locales\"][i][\"Name\"])\n",
    "    localecodes.append(localesreq['Locales'][i][\"Code\"])\n",
    "    i+=1\n",
    "print(localecodes)\n",
    "\n"
   ]
  },
  {
   "cell_type": "code",
   "execution_count": 168,
   "metadata": {
    "collapsed": false
   },
   "outputs": [
    {
     "name": "stdout",
     "output_type": "stream",
     "text": [
      "GBP\n"
     ]
    }
   ],
   "source": [
    "currencies = requests.get(refurl + \"currencies?apiKey=\" +api_key)\n",
    "currencies = json.loads(currencies.text)\n",
    "\n",
    "currcodes = []\n",
    "currsymbols = []\n",
    "currthousep = []\n",
    "currdecsep = []\n",
    "currsymleft = []\n",
    "currspace = []\n",
    "currroundcoeff = []\n",
    "currdecdigits = []\n",
    "i=0\n",
    "while i<len(currencies[\"Currencies\"]):\n",
    "    currcodes.append(currencies[\"Currencies\"][i][\"Code\"])\n",
    "    currsymbols.append(currencies[\"Currencies\"][i][\"Symbol\"])\n",
    "    currthousep.append(currencies[\"Currencies\"][i][\"ThousandsSeparator\"])\n",
    "    currdecsep.append(currencies[\"Currencies\"][i][\"DecimalSeparator\"])\n",
    "    currsymleft.append(currencies[\"Currencies\"][i][\"SymbolOnLeft\"])\n",
    "    currspace.append(currencies[\"Currencies\"][i][\"SpaceBetweenAmountAndSymbol\"])\n",
    "    currroundcoeff.append(currencies[\"Currencies\"][i][\"RoundingCoefficient\"])\n",
    "    currdecdigits.append(currencies[\"Currencies\"][i][\"DecimalDigits\"])\n",
    "    i+=1\n",
    "print(currcodes[45])"
   ]
  },
  {
   "cell_type": "code",
   "execution_count": 169,
   "metadata": {
    "collapsed": false
   },
   "outputs": [],
   "source": [
    "locale = localecodes[8]\n",
    "markets = requests.get(refurl + \"countries/\" + locale + \"?apiKey=\" + api_key)\n",
    "markets = json.loads(markets.text)\n",
    "\n",
    "marketcodes = []\n",
    "marketnames = []\n",
    "i=0\n",
    "while i<len(markets['Countries']):\n",
    "    marketnames.append(markets[\"Countries\"][i][\"Name\"])\n",
    "    marketcodes.append(markets['Countries'][i][\"Code\"])\n",
    "    i+=1\n",
    "#print(marketcodes)\n",
    "countrieszip = zip(marketcodes,marketnames)\n",
    "countriesdict = {\"Codes\":marketcodes,\n",
    "                \"Names\":marketnames\n",
    "                }"
   ]
  },
  {
   "cell_type": "code",
   "execution_count": 170,
   "metadata": {
    "collapsed": false
   },
   "outputs": [],
   "source": [
    "places = requests.get(\"http://partners.api.skyscanner.net/apiservices/geo/v1.0?apiKey=\"+api_key)\n",
    "places = json.loads(places.text)\n",
    "\n",
    "#print(places)"
   ]
  },
  {
   "cell_type": "code",
   "execution_count": 171,
   "metadata": {
    "collapsed": false
   },
   "outputs": [],
   "source": [
    "airportids = []\n",
    "airportlocs = []\n",
    "airportnames = []\n",
    "airportcities = []\n",
    "airportcountries = []\n",
    "\n",
    "for continent in places[\"Continents\"]:\n",
    "    for country in continent[\"Countries\"]:\n",
    "        for city in country[\"Cities\"]:\n",
    "            for airport in city[\"Airports\"]:\n",
    "                airportids.append(airport[\"Id\"])\n",
    "                airportlocs.append(airport[\"Location\"])\n",
    "                airportnames.append(airport[\"Name\"])\n",
    "                airportcities.append(city[\"Name\"])\n",
    "                airportcountries.append(city[\"CountryId\"])\n",
    "                \n",
    "airportinfo = {\"AirportID\":airportids,\n",
    "               \"Airport Location\":airportlocs,\n",
    "               \"Airport Name\":airportnames,\n",
    "               \"Airport City\":airportcities,\n",
    "               \"Airport Country\":airportcountries\n",
    "              }\n",
    "\n",
    "#print(airportinfo)"
   ]
  },
  {
   "cell_type": "code",
   "execution_count": 177,
   "metadata": {
    "collapsed": false
   },
   "outputs": [
    {
     "name": "stdout",
     "output_type": "stream",
     "text": [
      "1430 922\n",
      "Going from Manchester in United Kingdom to Lorient in France\n",
      "{'Quotes': [{'QuoteId': 1, 'MinPrice': 251.0, 'Direct': True, 'OutboundLeg': {'CarrierIds': [105], 'OriginId': 67662, 'DestinationId': 67759, 'DepartureDate': '2017-11-12T00:00:00'}, 'QuoteDateTime': '2017-11-11T13:24:17'}, {'QuoteId': 2, 'MinPrice': 336.0, 'Direct': False, 'OutboundLeg': {'CarrierIds': [1618], 'OriginId': 67662, 'DestinationId': 56628, 'DepartureDate': '2017-11-12T00:00:00'}, 'QuoteDateTime': '2017-11-11T15:40:55'}, {'QuoteId': 3, 'MinPrice': 548.0, 'Direct': False, 'OutboundLeg': {'CarrierIds': [288], 'OriginId': 67662, 'DestinationId': 81774, 'DepartureDate': '2017-11-12T00:00:00'}, 'QuoteDateTime': '2017-11-11T16:24:33'}, {'QuoteId': 4, 'MinPrice': 307.0, 'Direct': False, 'OutboundLeg': {'CarrierIds': [1755], 'OriginId': 67662, 'DestinationId': 40589, 'DepartureDate': '2017-11-12T00:00:00'}, 'QuoteDateTime': '2017-11-11T13:17:09'}, {'QuoteId': 5, 'MinPrice': 110.0, 'Direct': True, 'OutboundLeg': {'CarrierIds': [6], 'OriginId': 67662, 'DestinationId': 43315, 'DepartureDate': '2017-11-12T00:00:00'}, 'QuoteDateTime': '2017-11-11T16:56:28'}, {'QuoteId': 6, 'MinPrice': 909.0, 'Direct': False, 'OutboundLeg': {'CarrierIds': [1324], 'OriginId': 67662, 'DestinationId': 81580, 'DepartureDate': '2017-11-12T00:00:00'}, 'QuoteDateTime': '2017-11-11T17:03:27'}, {'QuoteId': 7, 'MinPrice': 656.0, 'Direct': False, 'OutboundLeg': {'CarrierIds': [1033], 'OriginId': 67662, 'DestinationId': 96474, 'DepartureDate': '2017-11-12T00:00:00'}, 'QuoteDateTime': '2017-11-11T15:16:33'}, {'QuoteId': 8, 'MinPrice': 190.0, 'Direct': True, 'OutboundLeg': {'CarrierIds': [6], 'OriginId': 67662, 'DestinationId': 45582, 'DepartureDate': '2017-11-12T00:00:00'}, 'QuoteDateTime': '2017-11-11T16:56:28'}, {'QuoteId': 9, 'MinPrice': 442.0, 'Direct': True, 'OutboundLeg': {'CarrierIds': [1035], 'OriginId': 67662, 'DestinationId': 48018, 'DepartureDate': '2017-11-12T00:00:00'}, 'QuoteDateTime': '2017-11-11T13:41:08'}, {'QuoteId': 10, 'MinPrice': 627.0, 'Direct': False, 'OutboundLeg': {'CarrierIds': [838], 'OriginId': 67662, 'DestinationId': 75530, 'DepartureDate': '2017-11-12T00:00:00'}, 'QuoteDateTime': '2017-11-11T15:06:51'}, {'QuoteId': 11, 'MinPrice': 231.0, 'Direct': False, 'OutboundLeg': {'CarrierIds': [105], 'OriginId': 67662, 'DestinationId': 42601, 'DepartureDate': '2017-11-12T00:00:00'}, 'QuoteDateTime': '2017-11-11T16:50:50'}, {'QuoteId': 12, 'MinPrice': 1133.0, 'Direct': True, 'OutboundLeg': {'CarrierIds': [1859], 'OriginId': 67662, 'DestinationId': 42601, 'DepartureDate': '2017-11-12T00:00:00'}, 'QuoteDateTime': '2017-11-11T16:51:00'}, {'QuoteId': 13, 'MinPrice': 671.0, 'Direct': False, 'OutboundLeg': {'CarrierIds': [1618], 'OriginId': 67662, 'DestinationId': 54980, 'DepartureDate': '2017-11-12T00:00:00'}, 'QuoteDateTime': '2017-11-11T12:25:42'}, {'QuoteId': 14, 'MinPrice': 627.0, 'Direct': False, 'OutboundLeg': {'CarrierIds': [288], 'OriginId': 67662, 'DestinationId': 63965, 'DepartureDate': '2017-11-12T00:00:00'}, 'QuoteDateTime': '2017-11-11T13:03:07'}, {'QuoteId': 15, 'MinPrice': 957.0, 'Direct': False, 'OutboundLeg': {'CarrierIds': [1793], 'OriginId': 67662, 'DestinationId': 81919, 'DepartureDate': '2017-11-12T00:00:00'}, 'QuoteDateTime': '2017-11-11T08:27:34'}, {'QuoteId': 16, 'MinPrice': 274.0, 'Direct': True, 'OutboundLeg': {'CarrierIds': [1563], 'OriginId': 67662, 'DestinationId': 59298, 'DepartureDate': '2017-11-12T00:00:00'}, 'QuoteDateTime': '2017-11-11T12:15:46'}, {'QuoteId': 17, 'MinPrice': 161.0, 'Direct': False, 'OutboundLeg': {'CarrierIds': [1760], 'OriginId': 67662, 'DestinationId': 47493, 'DepartureDate': '2017-11-12T00:00:00'}, 'QuoteDateTime': '2017-11-11T16:19:41'}, {'QuoteId': 18, 'MinPrice': 172.0, 'Direct': False, 'OutboundLeg': {'CarrierIds': [838], 'OriginId': 67662, 'DestinationId': 84750, 'DepartureDate': '2017-11-12T00:00:00'}, 'QuoteDateTime': '2017-11-11T11:51:54'}, {'QuoteId': 19, 'MinPrice': 180.0, 'Direct': False, 'OutboundLeg': {'CarrierIds': [881], 'OriginId': 67662, 'DestinationId': 88773, 'DepartureDate': '2017-11-12T00:00:00'}, 'QuoteDateTime': '2017-11-11T10:22:28'}, {'QuoteId': 20, 'MinPrice': 218.0, 'Direct': True, 'OutboundLeg': {'CarrierIds': [1523], 'OriginId': 67662, 'DestinationId': 88773, 'DepartureDate': '2017-11-12T00:00:00'}, 'QuoteDateTime': '2017-11-11T10:24:32'}, {'QuoteId': 21, 'MinPrice': 30.0, 'Direct': True, 'OutboundLeg': {'CarrierIds': [1379], 'OriginId': 67662, 'DestinationId': 42414, 'DepartureDate': '2017-11-12T00:00:00'}, 'QuoteDateTime': '2017-11-11T15:30:00'}, {'QuoteId': 22, 'MinPrice': 51.0, 'Direct': True, 'OutboundLeg': {'CarrierIds': [1379], 'OriginId': 67662, 'DestinationId': 51535, 'DepartureDate': '2017-11-12T00:00:00'}, 'QuoteDateTime': '2017-11-11T15:49:21'}, {'QuoteId': 23, 'MinPrice': 91.0, 'Direct': False, 'OutboundLeg': {'CarrierIds': [1760], 'OriginId': 67662, 'DestinationId': 73184, 'DepartureDate': '2017-11-12T00:00:00'}, 'QuoteDateTime': '2017-11-11T13:12:12'}, {'QuoteId': 24, 'MinPrice': 317.0, 'Direct': True, 'OutboundLeg': {'CarrierIds': [1707], 'OriginId': 67662, 'DestinationId': 40830, 'DepartureDate': '2017-11-12T00:00:00'}, 'QuoteDateTime': '2017-11-11T13:06:29'}, {'QuoteId': 25, 'MinPrice': 381.0, 'Direct': True, 'OutboundLeg': {'CarrierIds': [1707], 'OriginId': 67662, 'DestinationId': 45336, 'DepartureDate': '2017-11-12T00:00:00'}, 'QuoteDateTime': '2017-11-11T12:59:46'}, {'QuoteId': 26, 'MinPrice': 493.0, 'Direct': False, 'OutboundLeg': {'CarrierIds': [288], 'OriginId': 67662, 'DestinationId': 66035, 'DepartureDate': '2017-11-12T00:00:00'}, 'QuoteDateTime': '2017-11-11T14:27:04'}, {'QuoteId': 27, 'MinPrice': 341.0, 'Direct': False, 'OutboundLeg': {'CarrierIds': [1047], 'OriginId': 67662, 'DestinationId': 45348, 'DepartureDate': '2017-11-12T00:00:00'}, 'QuoteDateTime': '2017-11-11T16:57:57'}, {'QuoteId': 28, 'MinPrice': 120.0, 'Direct': True, 'OutboundLeg': {'CarrierIds': [1379], 'OriginId': 67662, 'DestinationId': 43268, 'DepartureDate': '2017-11-12T00:00:00'}, 'QuoteDateTime': '2017-11-11T13:36:19'}, {'QuoteId': 29, 'MinPrice': 112.0, 'Direct': True, 'OutboundLeg': {'CarrierIds': [1050], 'OriginId': 67662, 'DestinationId': 40920, 'DepartureDate': '2017-11-12T00:00:00'}, 'QuoteDateTime': '2017-11-11T12:10:54'}, {'QuoteId': 30, 'MinPrice': 91.0, 'Direct': True, 'OutboundLeg': {'CarrierIds': [1033], 'OriginId': 67662, 'DestinationId': 47874, 'DepartureDate': '2017-11-12T00:00:00'}, 'QuoteDateTime': '2017-11-11T17:44:00'}, {'QuoteId': 31, 'MinPrice': 276.0, 'Direct': True, 'OutboundLeg': {'CarrierIds': [1707], 'OriginId': 67662, 'DestinationId': 73132, 'DepartureDate': '2017-11-12T00:00:00'}, 'QuoteDateTime': '2017-11-11T15:43:26'}, {'QuoteId': 32, 'MinPrice': 216.0, 'Direct': False, 'OutboundLeg': {'CarrierIds': [1707], 'OriginId': 67662, 'DestinationId': 79576, 'DepartureDate': '2017-11-12T00:00:00'}, 'QuoteDateTime': '2017-11-11T13:23:46'}, {'QuoteId': 33, 'MinPrice': 579.0, 'Direct': True, 'OutboundLeg': {'CarrierIds': [1384], 'OriginId': 67662, 'DestinationId': 98424, 'DepartureDate': '2017-11-12T00:00:00'}, 'QuoteDateTime': '2017-11-11T15:13:10'}, {'QuoteId': 34, 'MinPrice': 400.0, 'Direct': False, 'OutboundLeg': {'CarrierIds': [1523], 'OriginId': 67662, 'DestinationId': 63104, 'DepartureDate': '2017-11-12T00:00:00'}, 'QuoteDateTime': '2017-11-11T09:50:38'}, {'QuoteId': 35, 'MinPrice': 47.0, 'Direct': True, 'OutboundLeg': {'CarrierIds': [1363], 'OriginId': 67662, 'DestinationId': 54353, 'DepartureDate': '2017-11-12T00:00:00'}, 'QuoteDateTime': '2017-11-11T15:19:50'}, {'QuoteId': 36, 'MinPrice': 237.0, 'Direct': False, 'OutboundLeg': {'CarrierIds': [1324], 'OriginId': 67662, 'DestinationId': 68529, 'DepartureDate': '2017-11-12T00:00:00'}, 'QuoteDateTime': '2017-11-11T10:04:48'}, {'QuoteId': 37, 'MinPrice': 311.0, 'Direct': False, 'OutboundLeg': {'CarrierIds': [1324], 'OriginId': 67662, 'DestinationId': 65797, 'DepartureDate': '2017-11-12T00:00:00'}, 'QuoteDateTime': '2017-11-11T13:39:19'}, {'QuoteId': 38, 'MinPrice': 42.0, 'Direct': True, 'OutboundLeg': {'CarrierIds': [1379], 'OriginId': 67662, 'DestinationId': 75383, 'DepartureDate': '2017-11-12T00:00:00'}, 'QuoteDateTime': '2017-11-11T16:09:43'}, {'QuoteId': 39, 'MinPrice': 454.0, 'Direct': False, 'OutboundLeg': {'CarrierIds': [1523], 'OriginId': 67662, 'DestinationId': 63907, 'DepartureDate': '2017-11-12T00:00:00'}, 'QuoteDateTime': '2017-11-11T00:25:49'}], 'Places': [{'PlaceId': 837, 'Name': 'United Arab Emirates', 'Type': 'Country', 'SkyscannerCode': 'AE'}, {'PlaceId': 838, 'Name': 'Afghanistan', 'Type': 'Country', 'SkyscannerCode': 'AF'}, {'PlaceId': 839, 'Name': 'Antigua and Barbuda', 'Type': 'Country', 'SkyscannerCode': 'AG'}, {'PlaceId': 844, 'Name': 'Albania', 'Type': 'Country', 'SkyscannerCode': 'AL'}, {'PlaceId': 845, 'Name': 'Armenia', 'Type': 'Country', 'SkyscannerCode': 'AM'}, {'PlaceId': 847, 'Name': 'Angola', 'Type': 'Country', 'SkyscannerCode': 'AO'}, {'PlaceId': 850, 'Name': 'Argentina', 'Type': 'Country', 'SkyscannerCode': 'AR'}, {'PlaceId': 852, 'Name': 'Austria', 'Type': 'Country', 'SkyscannerCode': 'AT'}, {'PlaceId': 853, 'Name': 'Australia', 'Type': 'Country', 'SkyscannerCode': 'AU'}, {'PlaceId': 855, 'Name': 'Aruba', 'Type': 'Country', 'SkyscannerCode': 'AW'}, {'PlaceId': 858, 'Name': 'Azerbaijan', 'Type': 'Country', 'SkyscannerCode': 'AZ'}, {'PlaceId': 881, 'Name': 'Bosnia and Herzegovina', 'Type': 'Country', 'SkyscannerCode': 'BA'}, {'PlaceId': 882, 'Name': 'Barbados', 'Type': 'Country', 'SkyscannerCode': 'BB'}, {'PlaceId': 884, 'Name': 'Bangladesh', 'Type': 'Country', 'SkyscannerCode': 'BD'}, {'PlaceId': 885, 'Name': 'Belgium', 'Type': 'Country', 'SkyscannerCode': 'BE'}, {'PlaceId': 886, 'Name': 'Burkina Faso', 'Type': 'Country', 'SkyscannerCode': 'BF'}, {'PlaceId': 887, 'Name': 'Bulgaria', 'Type': 'Country', 'SkyscannerCode': 'BG'}, {'PlaceId': 888, 'Name': 'Bahrain', 'Type': 'Country', 'SkyscannerCode': 'BH'}, {'PlaceId': 890, 'Name': 'Benin', 'Type': 'Country', 'SkyscannerCode': 'BJ'}, {'PlaceId': 893, 'Name': 'Bermuda', 'Type': 'Country', 'SkyscannerCode': 'BM'}, {'PlaceId': 895, 'Name': 'Bolivia', 'Type': 'Country', 'SkyscannerCode': 'BO'}, {'PlaceId': 897, 'Name': 'Caribbean Netherlands', 'Type': 'Country', 'SkyscannerCode': 'BQ'}, {'PlaceId': 898, 'Name': 'Brazil', 'Type': 'Country', 'SkyscannerCode': 'BR'}, {'PlaceId': 899, 'Name': 'Bahamas', 'Type': 'Country', 'SkyscannerCode': 'BS'}, {'PlaceId': 905, 'Name': 'Belarus', 'Type': 'Country', 'SkyscannerCode': 'BY'}, {'PlaceId': 929, 'Name': 'Canada', 'Type': 'Country', 'SkyscannerCode': 'CA'}, {'PlaceId': 932, 'Name': 'DR Congo', 'Type': 'Country', 'SkyscannerCode': 'CD'}, {'PlaceId': 935, 'Name': 'Congo', 'Type': 'Country', 'SkyscannerCode': 'CG'}, {'PlaceId': 936, 'Name': 'Switzerland', 'Type': 'Country', 'SkyscannerCode': 'CH'}, {'PlaceId': 937, 'Name': 'Ivory Coast', 'Type': 'Country', 'SkyscannerCode': 'CI'}, {'PlaceId': 940, 'Name': 'Chile', 'Type': 'Country', 'SkyscannerCode': 'CL'}, {'PlaceId': 941, 'Name': 'Cameroon', 'Type': 'Country', 'SkyscannerCode': 'CM'}, {'PlaceId': 942, 'Name': 'China', 'Type': 'Country', 'SkyscannerCode': 'CN'}, {'PlaceId': 943, 'Name': 'Colombia', 'Type': 'Country', 'SkyscannerCode': 'CO'}, {'PlaceId': 946, 'Name': 'Costa Rica', 'Type': 'Country', 'SkyscannerCode': 'CR'}, {'PlaceId': 949, 'Name': 'Cuba', 'Type': 'Country', 'SkyscannerCode': 'CU'}, {'PlaceId': 950, 'Name': 'Cape Verde', 'Type': 'Country', 'SkyscannerCode': 'CV'}, {'PlaceId': 951, 'Name': 'Curacao', 'Type': 'Country', 'SkyscannerCode': 'CW'}, {'PlaceId': 953, 'Name': 'Cyprus', 'Type': 'Country', 'SkyscannerCode': 'CY'}, {'PlaceId': 954, 'Name': 'Czech Republic', 'Type': 'Country', 'SkyscannerCode': 'CZ'}, {'PlaceId': 981, 'Name': 'Germany', 'Type': 'Country', 'SkyscannerCode': 'DE'}, {'PlaceId': 986, 'Name': 'Djibouti', 'Type': 'Country', 'SkyscannerCode': 'DJ'}, {'PlaceId': 987, 'Name': 'Denmark', 'Type': 'Country', 'SkyscannerCode': 'DK'}, {'PlaceId': 991, 'Name': 'Dominican Republic', 'Type': 'Country', 'SkyscannerCode': 'DO'}, {'PlaceId': 1002, 'Name': 'Algeria', 'Type': 'Country', 'SkyscannerCode': 'DZ'}, {'PlaceId': 1027, 'Name': 'Ecuador', 'Type': 'Country', 'SkyscannerCode': 'EC'}, {'PlaceId': 1029, 'Name': 'Estonia', 'Type': 'Country', 'SkyscannerCode': 'EE'}, {'PlaceId': 1031, 'Name': 'Egypt', 'Type': 'Country', 'SkyscannerCode': 'EG'}, {'PlaceId': 1042, 'Name': 'Eritrea', 'Type': 'Country', 'SkyscannerCode': 'ER'}, {'PlaceId': 1043, 'Name': 'Spain', 'Type': 'Country', 'SkyscannerCode': 'ES'}, {'PlaceId': 1044, 'Name': 'Ethiopia', 'Type': 'Country', 'SkyscannerCode': 'ET'}, {'PlaceId': 1081, 'Name': 'Finland', 'Type': 'Country', 'SkyscannerCode': 'FI'}, {'PlaceId': 1090, 'Name': 'France', 'Type': 'Country', 'SkyscannerCode': 'FR'}, {'PlaceId': 1121, 'Name': 'Gabon', 'Type': 'Country', 'SkyscannerCode': 'GA'}, {'PlaceId': 1125, 'Name': 'Georgia', 'Type': 'Country', 'SkyscannerCode': 'GE'}, {'PlaceId': 1126, 'Name': 'French Guiana', 'Type': 'Country', 'SkyscannerCode': 'GF'}, {'PlaceId': 1127, 'Name': 'Guernsey', 'Type': 'Country', 'SkyscannerCode': 'GG'}, {'PlaceId': 1128, 'Name': 'Ghana', 'Type': 'Country', 'SkyscannerCode': 'GH'}, {'PlaceId': 1129, 'Name': 'Gibraltar', 'Type': 'Country', 'SkyscannerCode': 'GI'}, {'PlaceId': 1133, 'Name': 'Gambia', 'Type': 'Country', 'SkyscannerCode': 'GM'}, {'PlaceId': 1134, 'Name': 'Guinea', 'Type': 'Country', 'SkyscannerCode': 'GN'}, {'PlaceId': 1136, 'Name': 'Guadeloupe', 'Type': 'Country', 'SkyscannerCode': 'GP'}, {'PlaceId': 1137, 'Name': 'Equatorial Guinea', 'Type': 'Country', 'SkyscannerCode': 'GQ'}, {'PlaceId': 1138, 'Name': 'Greece', 'Type': 'Country', 'SkyscannerCode': 'GR'}, {'PlaceId': 1140, 'Name': 'Guatemala', 'Type': 'Country', 'SkyscannerCode': 'GT'}, {'PlaceId': 1179, 'Name': 'Hong Kong', 'Type': 'Country', 'SkyscannerCode': 'HK'}, {'PlaceId': 1186, 'Name': 'Croatia', 'Type': 'Country', 'SkyscannerCode': 'HR'}, {'PlaceId': 1189, 'Name': 'Hungary', 'Type': 'Country', 'SkyscannerCode': 'HU'}, {'PlaceId': 1220, 'Name': 'Indonesia', 'Type': 'Country', 'SkyscannerCode': 'ID'}, {'PlaceId': 1221, 'Name': 'Ireland', 'Type': 'Country', 'SkyscannerCode': 'IE'}, {'PlaceId': 1228, 'Name': 'Israel', 'Type': 'Country', 'SkyscannerCode': 'IL'}, {'PlaceId': 1230, 'Name': 'India', 'Type': 'Country', 'SkyscannerCode': 'IN'}, {'PlaceId': 1233, 'Name': 'Iraq', 'Type': 'Country', 'SkyscannerCode': 'IQ'}, {'PlaceId': 1234, 'Name': 'Iran', 'Type': 'Country', 'SkyscannerCode': 'IR'}, {'PlaceId': 1235, 'Name': 'Iceland', 'Type': 'Country', 'SkyscannerCode': 'IS'}, {'PlaceId': 1236, 'Name': 'Italy', 'Type': 'Country', 'SkyscannerCode': 'IT'}, {'PlaceId': 1277, 'Name': 'Jamaica', 'Type': 'Country', 'SkyscannerCode': 'JM'}, {'PlaceId': 1279, 'Name': 'Jordan', 'Type': 'Country', 'SkyscannerCode': 'JO'}, {'PlaceId': 1280, 'Name': 'Japan', 'Type': 'Country', 'SkyscannerCode': 'JP'}, {'PlaceId': 1317, 'Name': 'Kenya', 'Type': 'Country', 'SkyscannerCode': 'KE'}, {'PlaceId': 1319, 'Name': 'Kyrgyzstan', 'Type': 'Country', 'SkyscannerCode': 'KG'}, {'PlaceId': 1320, 'Name': 'Cambodia', 'Type': 'Country', 'SkyscannerCode': 'KH'}, {'PlaceId': 1327, 'Name': 'Kosovo', 'Type': 'Country', 'SkyscannerCode': 'KO'}, {'PlaceId': 1330, 'Name': 'South Korea', 'Type': 'Country', 'SkyscannerCode': 'KR'}, {'PlaceId': 1335, 'Name': 'Kuwait', 'Type': 'Country', 'SkyscannerCode': 'KW'}, {'PlaceId': 1338, 'Name': 'Kazakhstan', 'Type': 'Country', 'SkyscannerCode': 'KZ'}, {'PlaceId': 1361, 'Name': 'Laos', 'Type': 'Country', 'SkyscannerCode': 'LA'}, {'PlaceId': 1362, 'Name': 'Lebanon', 'Type': 'Country', 'SkyscannerCode': 'LB'}, {'PlaceId': 1363, 'Name': 'Saint Lucia', 'Type': 'Country', 'SkyscannerCode': 'LC'}, {'PlaceId': 1371, 'Name': 'Sri Lanka', 'Type': 'Country', 'SkyscannerCode': 'LK'}, {'PlaceId': 1378, 'Name': 'Liberia', 'Type': 'Country', 'SkyscannerCode': 'LR'}, {'PlaceId': 1380, 'Name': 'Lithuania', 'Type': 'Country', 'SkyscannerCode': 'LT'}, {'PlaceId': 1381, 'Name': 'Luxembourg', 'Type': 'Country', 'SkyscannerCode': 'LU'}, {'PlaceId': 1382, 'Name': 'Latvia', 'Type': 'Country', 'SkyscannerCode': 'LV'}, {'PlaceId': 1409, 'Name': 'Morocco', 'Type': 'Country', 'SkyscannerCode': 'MA'}, {'PlaceId': 1412, 'Name': 'Moldova', 'Type': 'Country', 'SkyscannerCode': 'MD'}, {'PlaceId': 1415, 'Name': 'Madagascar', 'Type': 'Country', 'SkyscannerCode': 'MG'}, {'PlaceId': 1419, 'Name': 'Republic of Macedonia', 'Type': 'Country', 'SkyscannerCode': 'MK'}, {'PlaceId': 1420, 'Name': 'Mali', 'Type': 'Country', 'SkyscannerCode': 'ML'}, {'PlaceId': 1421, 'Name': 'Myanmar', 'Type': 'Country', 'SkyscannerCode': 'MM'}, {'PlaceId': 1422, 'Name': 'Mongolia', 'Type': 'Country', 'SkyscannerCode': 'MN'}, {'PlaceId': 1425, 'Name': 'Martinique', 'Type': 'Country', 'SkyscannerCode': 'MQ'}, {'PlaceId': 1426, 'Name': 'Mauritania', 'Type': 'Country', 'SkyscannerCode': 'MR'}, {'PlaceId': 1428, 'Name': 'Malta', 'Type': 'Country', 'SkyscannerCode': 'MT'}, {'PlaceId': 1429, 'Name': 'Mauritius', 'Type': 'Country', 'SkyscannerCode': 'MU'}, {'PlaceId': 1430, 'Name': 'Maldives', 'Type': 'Country', 'SkyscannerCode': 'MV'}, {'PlaceId': 1432, 'Name': 'Mexico', 'Type': 'Country', 'SkyscannerCode': 'MX'}, {'PlaceId': 1433, 'Name': 'Malaysia', 'Type': 'Country', 'SkyscannerCode': 'MY'}, {'PlaceId': 1434, 'Name': 'Mozambique', 'Type': 'Country', 'SkyscannerCode': 'MZ'}, {'PlaceId': 1457, 'Name': 'Namibia', 'Type': 'Country', 'SkyscannerCode': 'NA'}, {'PlaceId': 1461, 'Name': 'Niger', 'Type': 'Country', 'SkyscannerCode': 'NE'}, {'PlaceId': 1463, 'Name': 'Nigeria', 'Type': 'Country', 'SkyscannerCode': 'NG'}, {'PlaceId': 1468, 'Name': 'Netherlands', 'Type': 'Country', 'SkyscannerCode': 'NL'}, {'PlaceId': 1471, 'Name': 'Norway', 'Type': 'Country', 'SkyscannerCode': 'NO'}, {'PlaceId': 1472, 'Name': 'Nepal', 'Type': 'Country', 'SkyscannerCode': 'NP'}, {'PlaceId': 1482, 'Name': 'New Zealand', 'Type': 'Country', 'SkyscannerCode': 'NZ'}, {'PlaceId': 1517, 'Name': 'Oman', 'Type': 'Country', 'SkyscannerCode': 'OM'}, {'PlaceId': 1553, 'Name': 'Panama', 'Type': 'Country', 'SkyscannerCode': 'PA'}, {'PlaceId': 1557, 'Name': 'Peru', 'Type': 'Country', 'SkyscannerCode': 'PE'}, {'PlaceId': 1560, 'Name': 'Philippines', 'Type': 'Country', 'SkyscannerCode': 'PH'}, {'PlaceId': 1563, 'Name': 'Pakistan', 'Type': 'Country', 'SkyscannerCode': 'PK'}, {'PlaceId': 1564, 'Name': 'Poland', 'Type': 'Country', 'SkyscannerCode': 'PL'}, {'PlaceId': 1570, 'Name': 'Puerto Rico', 'Type': 'Country', 'SkyscannerCode': 'PR'}, {'PlaceId': 1572, 'Name': 'Portugal', 'Type': 'Country', 'SkyscannerCode': 'PT'}, {'PlaceId': 1601, 'Name': 'Qatar', 'Type': 'Country', 'SkyscannerCode': 'QA'}, {'PlaceId': 1653, 'Name': 'Reunion', 'Type': 'Country', 'SkyscannerCode': 'RE'}, {'PlaceId': 1663, 'Name': 'Romania', 'Type': 'Country', 'SkyscannerCode': 'RO'}, {'PlaceId': 1667, 'Name': 'Serbia', 'Type': 'Country', 'SkyscannerCode': 'RS'}, {'PlaceId': 1669, 'Name': 'Russia', 'Type': 'Country', 'SkyscannerCode': 'RU'}, {'PlaceId': 1671, 'Name': 'Rwanda', 'Type': 'Country', 'SkyscannerCode': 'RW'}, {'PlaceId': 1697, 'Name': 'Saudi Arabia', 'Type': 'Country', 'SkyscannerCode': 'SA'}, {'PlaceId': 1699, 'Name': 'Seychelles', 'Type': 'Country', 'SkyscannerCode': 'SC'}, {'PlaceId': 1700, 'Name': 'Sudan', 'Type': 'Country', 'SkyscannerCode': 'SD'}, {'PlaceId': 1701, 'Name': 'Sweden', 'Type': 'Country', 'SkyscannerCode': 'SE'}, {'PlaceId': 1703, 'Name': 'Singapore', 'Type': 'Country', 'SkyscannerCode': 'SG'}, {'PlaceId': 1705, 'Name': 'Slovenia', 'Type': 'Country', 'SkyscannerCode': 'SI'}, {'PlaceId': 1707, 'Name': 'Slovakia', 'Type': 'Country', 'SkyscannerCode': 'SK'}, {'PlaceId': 1708, 'Name': 'Sierra Leone', 'Type': 'Country', 'SkyscannerCode': 'SL'}, {'PlaceId': 1710, 'Name': 'Senegal', 'Type': 'Country', 'SkyscannerCode': 'SN'}, {'PlaceId': 1714, 'Name': 'Suriname', 'Type': 'Country', 'SkyscannerCode': 'SR'}, {'PlaceId': 1718, 'Name': 'El Salvador', 'Type': 'Country', 'SkyscannerCode': 'SV'}, {'PlaceId': 1748, 'Name': 'Chad', 'Type': 'Country', 'SkyscannerCode': 'TD'}, {'PlaceId': 1751, 'Name': 'Togo', 'Type': 'Country', 'SkyscannerCode': 'TG'}, {'PlaceId': 1752, 'Name': 'Thailand', 'Type': 'Country', 'SkyscannerCode': 'TH'}, {'PlaceId': 1754, 'Name': 'Tajikistan', 'Type': 'Country', 'SkyscannerCode': 'TJ'}, {'PlaceId': 1757, 'Name': 'Turkmenistan', 'Type': 'Country', 'SkyscannerCode': 'TM'}, {'PlaceId': 1758, 'Name': 'Tunisia', 'Type': 'Country', 'SkyscannerCode': 'TN'}, {'PlaceId': 1762, 'Name': 'Turkey', 'Type': 'Country', 'SkyscannerCode': 'TR'}, {'PlaceId': 1764, 'Name': 'Trinidad and Tobago', 'Type': 'Country', 'SkyscannerCode': 'TT'}, {'PlaceId': 1767, 'Name': 'Taiwan', 'Type': 'Country', 'SkyscannerCode': 'TW'}, {'PlaceId': 1770, 'Name': 'Tanzania', 'Type': 'Country', 'SkyscannerCode': 'TZ'}, {'PlaceId': 1793, 'Name': 'Ukraine', 'Type': 'Country', 'SkyscannerCode': 'UA'}, {'PlaceId': 1799, 'Name': 'Uganda', 'Type': 'Country', 'SkyscannerCode': 'UG'}, {'PlaceId': 1803, 'Name': 'United Kingdom', 'Type': 'Country', 'SkyscannerCode': 'UK'}, {'PlaceId': 1811, 'Name': 'United States', 'Type': 'Country', 'SkyscannerCode': 'US'}, {'PlaceId': 1817, 'Name': 'Uruguay', 'Type': 'Country', 'SkyscannerCode': 'UY'}, {'PlaceId': 1818, 'Name': 'Uzbekistan', 'Type': 'Country', 'SkyscannerCode': 'UZ'}, {'PlaceId': 1845, 'Name': 'Venezuela', 'Type': 'Country', 'SkyscannerCode': 'VE'}, {'PlaceId': 1854, 'Name': 'Vietnam', 'Type': 'Country', 'SkyscannerCode': 'VN'}, {'PlaceId': 2033, 'Name': 'South Africa', 'Type': 'Country', 'SkyscannerCode': 'ZA'}, {'PlaceId': 2045, 'Name': 'Zambia', 'Type': 'Country', 'SkyscannerCode': 'ZM'}, {'PlaceId': 2055, 'Name': 'Zimbabwe', 'Type': 'Country', 'SkyscannerCode': 'ZW'}, {'PlaceId': 40589, 'IataCode': 'AMM', 'Name': 'Amman Queen Alia', 'Type': 'Station', 'SkyscannerCode': 'AMM', 'CityName': 'Amman', 'CityId': 'AMMA', 'CountryName': 'Jordan'}, {'PlaceId': 40830, 'IataCode': 'ARN', 'Name': 'Stockholm Arlanda', 'Type': 'Station', 'SkyscannerCode': 'ARN', 'CityName': 'Stockholm', 'CityId': 'STOC', 'CountryName': 'Sweden'}, {'PlaceId': 40920, 'IataCode': 'ATH', 'Name': 'Athens International', 'Type': 'Station', 'SkyscannerCode': 'ATH', 'CityName': 'Athens', 'CityId': 'ATHE', 'CountryName': 'Greece'}, {'PlaceId': 42414, 'IataCode': 'BCN', 'Name': 'Barcelona', 'Type': 'Station', 'SkyscannerCode': 'BCN', 'CityName': 'Barcelona', 'CityId': 'BARC', 'CountryName': 'Spain'}, {'PlaceId': 42601, 'IataCode': 'BGI', 'Name': 'Bridgetown', 'Type': 'Station', 'SkyscannerCode': 'BGI', 'CityName': 'Bridgetown', 'CityId': 'BGIA', 'CountryName': 'Barbados'}, {'PlaceId': 43268, 'IataCode': 'BUD', 'Name': 'Budapest', 'Type': 'Station', 'SkyscannerCode': 'BUD', 'CityName': 'Budapest', 'CityId': 'BUDA', 'CountryName': 'Hungary'}, {'PlaceId': 43315, 'IataCode': 'BVC', 'Name': 'Boa Vista', 'Type': 'Station', 'SkyscannerCode': 'BVC', 'CityName': 'Boa Vista', 'CityId': 'BVCA', 'CountryName': 'Cape Verde'}, {'PlaceId': 45336, 'IataCode': 'CPH', 'Name': 'Copenhagen', 'Type': 'Station', 'SkyscannerCode': 'CPH', 'CityName': 'Copenhagen', 'CityId': 'COPE', 'CountryName': 'Denmark'}, {'PlaceId': 45348, 'IataCode': 'CPT', 'Name': 'Cape Town', 'Type': 'Station', 'SkyscannerCode': 'CPT', 'CityName': 'Cape Town', 'CityId': 'CPTA', 'CountryName': 'South Africa'}, {'PlaceId': 45582, 'IataCode': 'CUN', 'Name': 'Cancun', 'Type': 'Station', 'SkyscannerCode': 'CUN', 'CityName': 'Cancun', 'CityId': 'CUNA', 'CountryName': 'Mexico'}, {'PlaceId': 47493, 'IataCode': 'DME', 'Name': 'Moscow Domodedovo', 'Type': 'Station', 'SkyscannerCode': 'DME', 'CityName': 'Moscow', 'CityId': 'MOSC', 'CountryName': 'Russia'}, {'PlaceId': 47874, 'IataCode': 'DUB', 'Name': 'Dublin', 'Type': 'Station', 'SkyscannerCode': 'DUB', 'CityName': 'Dublin', 'CityId': 'DUBL', 'CountryName': 'Ireland'}, {'PlaceId': 48018, 'IataCode': 'DXB', 'Name': 'Dubai', 'Type': 'Station', 'SkyscannerCode': 'DXB', 'CityName': 'Dubai', 'CityId': 'DXBA', 'CountryName': 'United Arab Emirates'}, {'PlaceId': 51535, 'IataCode': 'FAO', 'Name': 'Faro', 'Type': 'Station', 'SkyscannerCode': 'FAO', 'CityName': 'Faro', 'CityId': 'FARO', 'CountryName': 'Portugal'}, {'PlaceId': 54353, 'IataCode': 'GLA', 'Name': 'Glasgow International', 'Type': 'Station', 'SkyscannerCode': 'GLA', 'CityName': 'Glasgow', 'CityId': 'GLAS', 'CountryName': 'United Kingdom'}, {'PlaceId': 54980, 'IataCode': 'GYD', 'Name': 'Baku Heydar Aliyev International', 'Type': 'Station', 'SkyscannerCode': 'GYD', 'CityName': 'Baku', 'CityId': 'BAKA', 'CountryName': 'Azerbaijan'}, {'PlaceId': 56628, 'IataCode': 'HKT', 'Name': 'Phuket', 'Type': 'Station', 'SkyscannerCode': 'HKT', 'CityName': 'Phuket', 'CityId': 'HKTT', 'CountryName': 'Thailand'}, {'PlaceId': 59298, 'IataCode': 'ISB', 'Name': 'Islamabad', 'Type': 'Station', 'SkyscannerCode': 'ISB', 'CityName': 'Islamabad', 'CityId': 'ISBA', 'CountryName': 'Pakistan'}, {'PlaceId': 63104, 'IataCode': 'KBP', 'Name': 'Kiev Borispol', 'Type': 'Station', 'SkyscannerCode': 'KBP', 'CityName': 'Kiev', 'CityId': 'KIEV', 'CountryName': 'Ukraine'}, {'PlaceId': 63907, 'IataCode': 'KSC', 'Name': 'Kosice', 'Type': 'Station', 'SkyscannerCode': 'KSC', 'CityName': 'Kosice', 'CityId': 'KOSI', 'CountryName': 'Slovakia'}, {'PlaceId': 63965, 'IataCode': 'KTM', 'Name': 'Kathmandu', 'Type': 'Station', 'SkyscannerCode': 'KTM', 'CityName': 'Kathmandu', 'CityId': 'KTMA', 'CountryName': 'Nepal'}, {'PlaceId': 65797, 'IataCode': 'LJU', 'Name': 'Ljubljana', 'Type': 'Station', 'SkyscannerCode': 'LJU', 'CityName': 'Ljubljana', 'CityId': 'LJUB', 'CountryName': 'Slovenia'}, {'PlaceId': 66035, 'IataCode': 'LOS', 'Name': 'Lagos', 'Type': 'Station', 'SkyscannerCode': 'LOS', 'CityName': 'Lagos', 'CityId': 'LOSA', 'CountryName': 'Nigeria'}, {'PlaceId': 67662, 'IataCode': 'MAN', 'Name': 'Manchester', 'Type': 'Station', 'SkyscannerCode': 'MAN', 'CityName': 'Manchester', 'CityId': 'MANC', 'CountryName': 'United Kingdom'}, {'PlaceId': 67759, 'IataCode': 'MCO', 'Name': 'Orlando International', 'Type': 'Station', 'SkyscannerCode': 'MCO', 'CityName': 'Orlando', 'CityId': 'ORLB', 'CountryName': 'United States'}, {'PlaceId': 68529, 'IataCode': 'MSQ', 'Name': 'Minsk International 2', 'Type': 'Station', 'SkyscannerCode': 'MSQ', 'CityName': 'Minsk', 'CityId': 'MSQA', 'CountryName': 'Belarus'}, {'PlaceId': 73132, 'IataCode': 'OSL', 'Name': 'Oslo Gardermoen', 'Type': 'Station', 'SkyscannerCode': 'OSL', 'CityName': 'Oslo', 'CityId': 'OSLO', 'CountryName': 'Norway'}, {'PlaceId': 73184, 'IataCode': 'OTP', 'Name': 'Bucharest Otopeni', 'Type': 'Station', 'SkyscannerCode': 'OTP', 'CityName': 'Bucharest', 'CityId': 'BUCH', 'CountryName': 'Romania'}, {'PlaceId': 75383, 'IataCode': 'PRG', 'Name': 'Prague', 'Type': 'Station', 'SkyscannerCode': 'PRG', 'CityName': 'Prague', 'CityId': 'PRAG', 'CountryName': 'Czech Republic'}, {'PlaceId': 75530, 'IataCode': 'PUJ', 'Name': 'Punta Cana', 'Type': 'Station', 'SkyscannerCode': 'PUJ', 'CityName': 'Punta Cana', 'CityId': 'PUJA', 'CountryName': 'Dominican Republic'}, {'PlaceId': 79576, 'IataCode': 'RIX', 'Name': 'Riga International', 'Type': 'Station', 'SkyscannerCode': 'RIX', 'CityName': 'Riga', 'CityId': 'RIGA', 'CountryName': 'Latvia'}, {'PlaceId': 81580, 'IataCode': 'SCL', 'Name': 'Santiago Arturo Merino Benitez', 'Type': 'Station', 'SkyscannerCode': 'SCL', 'CityName': 'Santiago', 'CityId': 'SCLA', 'CountryName': 'Chile'}, {'PlaceId': 81774, 'IataCode': 'SGN', 'Name': 'Ho Chi Minh City', 'Type': 'Station', 'SkyscannerCode': 'SGN', 'CityName': 'Ho Chi Minh City', 'CityId': 'SGNV', 'CountryName': 'Vietnam'}, {'PlaceId': 81919, 'IataCode': 'SJO', 'Name': 'San Jose Juan Santamaria', 'Type': 'Station', 'SkyscannerCode': 'SJO', 'CityName': 'San Jose', 'CityId': 'SJOA', 'CountryName': 'Costa Rica'}, {'PlaceId': 84750, 'IataCode': 'TUN', 'Name': 'Tunis Carthage', 'Type': 'Station', 'SkyscannerCode': 'TUN', 'CityName': 'Tunis Carthage', 'CityId': 'TUNI', 'CountryName': 'Tunisia'}, {'PlaceId': 88773, 'IataCode': 'VIE', 'Name': 'Vienna', 'Type': 'Station', 'SkyscannerCode': 'VIE', 'CityName': 'Vienna', 'CityId': 'VIEN', 'CountryName': 'Austria'}, {'PlaceId': 96474, 'IataCode': 'YYZ', 'Name': 'Toronto Pearson International', 'Type': 'Station', 'SkyscannerCode': 'YYZ', 'CityName': 'Toronto', 'CityId': 'YTOA', 'CountryName': 'Canada'}, {'PlaceId': 98424, 'IataCode': 'ZRH', 'Name': 'Zurich', 'Type': 'Station', 'SkyscannerCode': 'ZRH', 'CityName': 'Zurich', 'CityId': 'ZURI', 'CountryName': 'Switzerland'}], 'Carriers': [{'CarrierId': 6, 'Name': 'TUI'}, {'CarrierId': 105, 'Name': 'Thomas Cook Airlines'}, {'CarrierId': 288, 'Name': 'Etihad Airways'}, {'CarrierId': 838, 'Name': 'Air France'}, {'CarrierId': 881, 'Name': 'British Airways'}, {'CarrierId': 1033, 'Name': 'Aer Lingus'}, {'CarrierId': 1035, 'Name': 'Emirates'}, {'CarrierId': 1047, 'Name': 'eurowings'}, {'CarrierId': 1050, 'Name': 'easyJet'}, {'CarrierId': 1324, 'Name': 'KLM'}, {'CarrierId': 1363, 'Name': 'Loganair'}, {'CarrierId': 1379, 'Name': 'Jet2'}, {'CarrierId': 1384, 'Name': 'SWISS'}, {'CarrierId': 1523, 'Name': 'Austrian Airlines'}, {'CarrierId': 1563, 'Name': 'PIA'}, {'CarrierId': 1618, 'Name': 'Qatar Airways'}, {'CarrierId': 1707, 'Name': 'SAS'}, {'CarrierId': 1755, 'Name': 'Turkish Airlines'}, {'CarrierId': 1760, 'Name': 'TAP Air Portugal'}, {'CarrierId': 1793, 'Name': 'United'}, {'CarrierId': 1859, 'Name': 'Virgin Atlantic'}], 'Currencies': [{'Code': 'GBP', 'Symbol': 'Â£', 'ThousandsSeparator': ',', 'DecimalSeparator': '.', 'SymbolOnLeft': True, 'SpaceBetweenAmountAndSymbol': False, 'RoundingCoefficient': 0, 'DecimalDigits': 2}]}\n"
     ]
    }
   ],
   "source": [
    "country = marketcodes[4]\n",
    "currency = currcodes[45]\n",
    "k = 1430 #random.randint(0,len(airportnames)-1) #origin index\n",
    "q = 922 #random.randint(0,len(airportnames)-1) #destination index\n",
    "print(k,q)\n",
    "originPlace = airportids[k]\n",
    "destinationPlace = \"anywhere\"   #airportids[q]\n",
    "print(\"Going from \"+ airportnames[k] + \" in \" + \n",
    "      marketnames[marketcodes.index(airportcountries[k])]\n",
    "      + \" to \" + airportnames[q] + \" in \" + \n",
    "      marketnames[marketcodes.index(airportcountries[q])])\n",
    "outboundPartialDate = \"2017-11-12\"\n",
    "params = [country, currency, locale, originPlace, destinationPlace, outboundPartialDate]\n",
    "requrl=basicurl\n",
    "for element in params:\n",
    "    requrl = requrl + '/' + element\n",
    "requrl = requrl + '?apiKey=' + api_key\n",
    "browsequotes =  requests.get(requrl)\n",
    "browsequotes = json.loads(browsequotes.text)\n",
    "print(browsequotes)"
   ]
  },
  {
   "cell_type": "code",
   "execution_count": 173,
   "metadata": {
    "collapsed": false
   },
   "outputs": [],
   "source": [
    "def quotesDict(browsingurl):\n",
    "    \"\"\"Generates a usable list of quotes from an input\"\"\"\n",
    "    browseQuotes = requests.get(browsingurl)\n",
    "    quotesJSON = json.loads(browseQuotes.text)\n",
    "    quotesDict = []\n",
    "    for i in quotesJSON['Quotes']:\n",
    "        print(i)\n",
    "        i = i\n",
    "        smallDict = {'Price':i['MinPrice'],\n",
    "                     'OriginId':i['OutboundLeg']['OriginId'],\n",
    "                      'DepartureDate':i['OutboundLeg']['DepartureDate'],\n",
    "                      'DestinationId':i['OutboundLeg']['DestinationId']}\n",
    "        quotesDict.append(smallDict)\n",
    "    return quotesDict"
   ]
  },
  {
   "cell_type": "code",
   "execution_count": 178,
   "metadata": {
    "collapsed": false
   },
   "outputs": [
    {
     "name": "stdout",
     "output_type": "stream",
     "text": [
      "{'QuoteId': 1, 'MinPrice': 251.0, 'Direct': True, 'OutboundLeg': {'CarrierIds': [105], 'OriginId': 67662, 'DestinationId': 67759, 'DepartureDate': '2017-11-12T00:00:00'}, 'QuoteDateTime': '2017-11-11T13:24:17'}\n",
      "{'QuoteId': 2, 'MinPrice': 336.0, 'Direct': False, 'OutboundLeg': {'CarrierIds': [1618], 'OriginId': 67662, 'DestinationId': 56628, 'DepartureDate': '2017-11-12T00:00:00'}, 'QuoteDateTime': '2017-11-11T15:40:55'}\n",
      "{'QuoteId': 3, 'MinPrice': 548.0, 'Direct': False, 'OutboundLeg': {'CarrierIds': [288], 'OriginId': 67662, 'DestinationId': 81774, 'DepartureDate': '2017-11-12T00:00:00'}, 'QuoteDateTime': '2017-11-11T16:24:33'}\n",
      "{'QuoteId': 4, 'MinPrice': 307.0, 'Direct': False, 'OutboundLeg': {'CarrierIds': [1755], 'OriginId': 67662, 'DestinationId': 40589, 'DepartureDate': '2017-11-12T00:00:00'}, 'QuoteDateTime': '2017-11-11T13:17:09'}\n",
      "{'QuoteId': 5, 'MinPrice': 110.0, 'Direct': True, 'OutboundLeg': {'CarrierIds': [6], 'OriginId': 67662, 'DestinationId': 43315, 'DepartureDate': '2017-11-12T00:00:00'}, 'QuoteDateTime': '2017-11-11T16:56:28'}\n",
      "{'QuoteId': 6, 'MinPrice': 909.0, 'Direct': False, 'OutboundLeg': {'CarrierIds': [1324], 'OriginId': 67662, 'DestinationId': 81580, 'DepartureDate': '2017-11-12T00:00:00'}, 'QuoteDateTime': '2017-11-11T17:03:27'}\n",
      "{'QuoteId': 7, 'MinPrice': 656.0, 'Direct': False, 'OutboundLeg': {'CarrierIds': [1033], 'OriginId': 67662, 'DestinationId': 96474, 'DepartureDate': '2017-11-12T00:00:00'}, 'QuoteDateTime': '2017-11-11T15:16:33'}\n",
      "{'QuoteId': 8, 'MinPrice': 190.0, 'Direct': True, 'OutboundLeg': {'CarrierIds': [6], 'OriginId': 67662, 'DestinationId': 45582, 'DepartureDate': '2017-11-12T00:00:00'}, 'QuoteDateTime': '2017-11-11T16:56:28'}\n",
      "{'QuoteId': 9, 'MinPrice': 442.0, 'Direct': True, 'OutboundLeg': {'CarrierIds': [1035], 'OriginId': 67662, 'DestinationId': 48018, 'DepartureDate': '2017-11-12T00:00:00'}, 'QuoteDateTime': '2017-11-11T13:41:08'}\n",
      "{'QuoteId': 10, 'MinPrice': 627.0, 'Direct': False, 'OutboundLeg': {'CarrierIds': [838], 'OriginId': 67662, 'DestinationId': 75530, 'DepartureDate': '2017-11-12T00:00:00'}, 'QuoteDateTime': '2017-11-11T15:06:51'}\n",
      "{'QuoteId': 11, 'MinPrice': 231.0, 'Direct': False, 'OutboundLeg': {'CarrierIds': [105], 'OriginId': 67662, 'DestinationId': 42601, 'DepartureDate': '2017-11-12T00:00:00'}, 'QuoteDateTime': '2017-11-11T16:50:50'}\n",
      "{'QuoteId': 12, 'MinPrice': 1133.0, 'Direct': True, 'OutboundLeg': {'CarrierIds': [1859], 'OriginId': 67662, 'DestinationId': 42601, 'DepartureDate': '2017-11-12T00:00:00'}, 'QuoteDateTime': '2017-11-11T16:51:00'}\n",
      "{'QuoteId': 13, 'MinPrice': 671.0, 'Direct': False, 'OutboundLeg': {'CarrierIds': [1618], 'OriginId': 67662, 'DestinationId': 54980, 'DepartureDate': '2017-11-12T00:00:00'}, 'QuoteDateTime': '2017-11-11T12:25:42'}\n",
      "{'QuoteId': 14, 'MinPrice': 627.0, 'Direct': False, 'OutboundLeg': {'CarrierIds': [288], 'OriginId': 67662, 'DestinationId': 63965, 'DepartureDate': '2017-11-12T00:00:00'}, 'QuoteDateTime': '2017-11-11T13:03:07'}\n",
      "{'QuoteId': 15, 'MinPrice': 957.0, 'Direct': False, 'OutboundLeg': {'CarrierIds': [1793], 'OriginId': 67662, 'DestinationId': 81919, 'DepartureDate': '2017-11-12T00:00:00'}, 'QuoteDateTime': '2017-11-11T08:27:34'}\n",
      "{'QuoteId': 16, 'MinPrice': 274.0, 'Direct': True, 'OutboundLeg': {'CarrierIds': [1563], 'OriginId': 67662, 'DestinationId': 59298, 'DepartureDate': '2017-11-12T00:00:00'}, 'QuoteDateTime': '2017-11-11T12:15:46'}\n",
      "{'QuoteId': 17, 'MinPrice': 161.0, 'Direct': False, 'OutboundLeg': {'CarrierIds': [1760], 'OriginId': 67662, 'DestinationId': 47493, 'DepartureDate': '2017-11-12T00:00:00'}, 'QuoteDateTime': '2017-11-11T16:19:41'}\n",
      "{'QuoteId': 18, 'MinPrice': 172.0, 'Direct': False, 'OutboundLeg': {'CarrierIds': [838], 'OriginId': 67662, 'DestinationId': 84750, 'DepartureDate': '2017-11-12T00:00:00'}, 'QuoteDateTime': '2017-11-11T11:51:54'}\n",
      "{'QuoteId': 19, 'MinPrice': 180.0, 'Direct': False, 'OutboundLeg': {'CarrierIds': [881], 'OriginId': 67662, 'DestinationId': 88773, 'DepartureDate': '2017-11-12T00:00:00'}, 'QuoteDateTime': '2017-11-11T10:22:28'}\n",
      "{'QuoteId': 20, 'MinPrice': 218.0, 'Direct': True, 'OutboundLeg': {'CarrierIds': [1523], 'OriginId': 67662, 'DestinationId': 88773, 'DepartureDate': '2017-11-12T00:00:00'}, 'QuoteDateTime': '2017-11-11T10:24:32'}\n",
      "{'QuoteId': 21, 'MinPrice': 30.0, 'Direct': True, 'OutboundLeg': {'CarrierIds': [1379], 'OriginId': 67662, 'DestinationId': 42414, 'DepartureDate': '2017-11-12T00:00:00'}, 'QuoteDateTime': '2017-11-11T15:30:00'}\n",
      "{'QuoteId': 22, 'MinPrice': 51.0, 'Direct': True, 'OutboundLeg': {'CarrierIds': [1379], 'OriginId': 67662, 'DestinationId': 51535, 'DepartureDate': '2017-11-12T00:00:00'}, 'QuoteDateTime': '2017-11-11T15:49:21'}\n",
      "{'QuoteId': 23, 'MinPrice': 91.0, 'Direct': False, 'OutboundLeg': {'CarrierIds': [1760], 'OriginId': 67662, 'DestinationId': 73184, 'DepartureDate': '2017-11-12T00:00:00'}, 'QuoteDateTime': '2017-11-11T13:12:12'}\n",
      "{'QuoteId': 24, 'MinPrice': 317.0, 'Direct': True, 'OutboundLeg': {'CarrierIds': [1707], 'OriginId': 67662, 'DestinationId': 40830, 'DepartureDate': '2017-11-12T00:00:00'}, 'QuoteDateTime': '2017-11-11T13:06:29'}\n",
      "{'QuoteId': 25, 'MinPrice': 381.0, 'Direct': True, 'OutboundLeg': {'CarrierIds': [1707], 'OriginId': 67662, 'DestinationId': 45336, 'DepartureDate': '2017-11-12T00:00:00'}, 'QuoteDateTime': '2017-11-11T12:59:46'}\n",
      "{'QuoteId': 26, 'MinPrice': 493.0, 'Direct': False, 'OutboundLeg': {'CarrierIds': [288], 'OriginId': 67662, 'DestinationId': 66035, 'DepartureDate': '2017-11-12T00:00:00'}, 'QuoteDateTime': '2017-11-11T14:27:04'}\n",
      "{'QuoteId': 27, 'MinPrice': 341.0, 'Direct': False, 'OutboundLeg': {'CarrierIds': [1047], 'OriginId': 67662, 'DestinationId': 45348, 'DepartureDate': '2017-11-12T00:00:00'}, 'QuoteDateTime': '2017-11-11T16:57:57'}\n",
      "{'QuoteId': 28, 'MinPrice': 120.0, 'Direct': True, 'OutboundLeg': {'CarrierIds': [1379], 'OriginId': 67662, 'DestinationId': 43268, 'DepartureDate': '2017-11-12T00:00:00'}, 'QuoteDateTime': '2017-11-11T13:36:19'}\n",
      "{'QuoteId': 29, 'MinPrice': 112.0, 'Direct': True, 'OutboundLeg': {'CarrierIds': [1050], 'OriginId': 67662, 'DestinationId': 40920, 'DepartureDate': '2017-11-12T00:00:00'}, 'QuoteDateTime': '2017-11-11T12:10:54'}\n",
      "{'QuoteId': 30, 'MinPrice': 91.0, 'Direct': True, 'OutboundLeg': {'CarrierIds': [1033], 'OriginId': 67662, 'DestinationId': 47874, 'DepartureDate': '2017-11-12T00:00:00'}, 'QuoteDateTime': '2017-11-11T17:44:00'}\n",
      "{'QuoteId': 31, 'MinPrice': 276.0, 'Direct': True, 'OutboundLeg': {'CarrierIds': [1707], 'OriginId': 67662, 'DestinationId': 73132, 'DepartureDate': '2017-11-12T00:00:00'}, 'QuoteDateTime': '2017-11-11T15:43:26'}\n",
      "{'QuoteId': 32, 'MinPrice': 216.0, 'Direct': False, 'OutboundLeg': {'CarrierIds': [1707], 'OriginId': 67662, 'DestinationId': 79576, 'DepartureDate': '2017-11-12T00:00:00'}, 'QuoteDateTime': '2017-11-11T13:23:46'}\n",
      "{'QuoteId': 33, 'MinPrice': 579.0, 'Direct': True, 'OutboundLeg': {'CarrierIds': [1384], 'OriginId': 67662, 'DestinationId': 98424, 'DepartureDate': '2017-11-12T00:00:00'}, 'QuoteDateTime': '2017-11-11T15:13:10'}\n",
      "{'QuoteId': 34, 'MinPrice': 400.0, 'Direct': False, 'OutboundLeg': {'CarrierIds': [1523], 'OriginId': 67662, 'DestinationId': 63104, 'DepartureDate': '2017-11-12T00:00:00'}, 'QuoteDateTime': '2017-11-11T09:50:38'}\n",
      "{'QuoteId': 35, 'MinPrice': 47.0, 'Direct': True, 'OutboundLeg': {'CarrierIds': [1363], 'OriginId': 67662, 'DestinationId': 54353, 'DepartureDate': '2017-11-12T00:00:00'}, 'QuoteDateTime': '2017-11-11T15:19:50'}\n",
      "{'QuoteId': 36, 'MinPrice': 237.0, 'Direct': False, 'OutboundLeg': {'CarrierIds': [1324], 'OriginId': 67662, 'DestinationId': 68529, 'DepartureDate': '2017-11-12T00:00:00'}, 'QuoteDateTime': '2017-11-11T10:04:48'}\n",
      "{'QuoteId': 37, 'MinPrice': 311.0, 'Direct': False, 'OutboundLeg': {'CarrierIds': [1324], 'OriginId': 67662, 'DestinationId': 65797, 'DepartureDate': '2017-11-12T00:00:00'}, 'QuoteDateTime': '2017-11-11T13:39:19'}\n",
      "{'QuoteId': 38, 'MinPrice': 42.0, 'Direct': True, 'OutboundLeg': {'CarrierIds': [1379], 'OriginId': 67662, 'DestinationId': 75383, 'DepartureDate': '2017-11-12T00:00:00'}, 'QuoteDateTime': '2017-11-11T16:09:43'}\n",
      "{'QuoteId': 39, 'MinPrice': 454.0, 'Direct': False, 'OutboundLeg': {'CarrierIds': [1523], 'OriginId': 67662, 'DestinationId': 63907, 'DepartureDate': '2017-11-12T00:00:00'}, 'QuoteDateTime': '2017-11-11T00:25:49'}\n",
      "[{'Price': 251.0, 'OriginId': 67662, 'DepartureDate': '2017-11-12T00:00:00', 'DestinationId': 67759}, {'Price': 336.0, 'OriginId': 67662, 'DepartureDate': '2017-11-12T00:00:00', 'DestinationId': 56628}, {'Price': 548.0, 'OriginId': 67662, 'DepartureDate': '2017-11-12T00:00:00', 'DestinationId': 81774}, {'Price': 307.0, 'OriginId': 67662, 'DepartureDate': '2017-11-12T00:00:00', 'DestinationId': 40589}, {'Price': 110.0, 'OriginId': 67662, 'DepartureDate': '2017-11-12T00:00:00', 'DestinationId': 43315}, {'Price': 909.0, 'OriginId': 67662, 'DepartureDate': '2017-11-12T00:00:00', 'DestinationId': 81580}, {'Price': 656.0, 'OriginId': 67662, 'DepartureDate': '2017-11-12T00:00:00', 'DestinationId': 96474}, {'Price': 190.0, 'OriginId': 67662, 'DepartureDate': '2017-11-12T00:00:00', 'DestinationId': 45582}, {'Price': 442.0, 'OriginId': 67662, 'DepartureDate': '2017-11-12T00:00:00', 'DestinationId': 48018}, {'Price': 627.0, 'OriginId': 67662, 'DepartureDate': '2017-11-12T00:00:00', 'DestinationId': 75530}, {'Price': 231.0, 'OriginId': 67662, 'DepartureDate': '2017-11-12T00:00:00', 'DestinationId': 42601}, {'Price': 1133.0, 'OriginId': 67662, 'DepartureDate': '2017-11-12T00:00:00', 'DestinationId': 42601}, {'Price': 671.0, 'OriginId': 67662, 'DepartureDate': '2017-11-12T00:00:00', 'DestinationId': 54980}, {'Price': 627.0, 'OriginId': 67662, 'DepartureDate': '2017-11-12T00:00:00', 'DestinationId': 63965}, {'Price': 957.0, 'OriginId': 67662, 'DepartureDate': '2017-11-12T00:00:00', 'DestinationId': 81919}, {'Price': 274.0, 'OriginId': 67662, 'DepartureDate': '2017-11-12T00:00:00', 'DestinationId': 59298}, {'Price': 161.0, 'OriginId': 67662, 'DepartureDate': '2017-11-12T00:00:00', 'DestinationId': 47493}, {'Price': 172.0, 'OriginId': 67662, 'DepartureDate': '2017-11-12T00:00:00', 'DestinationId': 84750}, {'Price': 180.0, 'OriginId': 67662, 'DepartureDate': '2017-11-12T00:00:00', 'DestinationId': 88773}, {'Price': 218.0, 'OriginId': 67662, 'DepartureDate': '2017-11-12T00:00:00', 'DestinationId': 88773}, {'Price': 30.0, 'OriginId': 67662, 'DepartureDate': '2017-11-12T00:00:00', 'DestinationId': 42414}, {'Price': 51.0, 'OriginId': 67662, 'DepartureDate': '2017-11-12T00:00:00', 'DestinationId': 51535}, {'Price': 91.0, 'OriginId': 67662, 'DepartureDate': '2017-11-12T00:00:00', 'DestinationId': 73184}, {'Price': 317.0, 'OriginId': 67662, 'DepartureDate': '2017-11-12T00:00:00', 'DestinationId': 40830}, {'Price': 381.0, 'OriginId': 67662, 'DepartureDate': '2017-11-12T00:00:00', 'DestinationId': 45336}, {'Price': 493.0, 'OriginId': 67662, 'DepartureDate': '2017-11-12T00:00:00', 'DestinationId': 66035}, {'Price': 341.0, 'OriginId': 67662, 'DepartureDate': '2017-11-12T00:00:00', 'DestinationId': 45348}, {'Price': 120.0, 'OriginId': 67662, 'DepartureDate': '2017-11-12T00:00:00', 'DestinationId': 43268}, {'Price': 112.0, 'OriginId': 67662, 'DepartureDate': '2017-11-12T00:00:00', 'DestinationId': 40920}, {'Price': 91.0, 'OriginId': 67662, 'DepartureDate': '2017-11-12T00:00:00', 'DestinationId': 47874}, {'Price': 276.0, 'OriginId': 67662, 'DepartureDate': '2017-11-12T00:00:00', 'DestinationId': 73132}, {'Price': 216.0, 'OriginId': 67662, 'DepartureDate': '2017-11-12T00:00:00', 'DestinationId': 79576}, {'Price': 579.0, 'OriginId': 67662, 'DepartureDate': '2017-11-12T00:00:00', 'DestinationId': 98424}, {'Price': 400.0, 'OriginId': 67662, 'DepartureDate': '2017-11-12T00:00:00', 'DestinationId': 63104}, {'Price': 47.0, 'OriginId': 67662, 'DepartureDate': '2017-11-12T00:00:00', 'DestinationId': 54353}, {'Price': 237.0, 'OriginId': 67662, 'DepartureDate': '2017-11-12T00:00:00', 'DestinationId': 68529}, {'Price': 311.0, 'OriginId': 67662, 'DepartureDate': '2017-11-12T00:00:00', 'DestinationId': 65797}, {'Price': 42.0, 'OriginId': 67662, 'DepartureDate': '2017-11-12T00:00:00', 'DestinationId': 75383}, {'Price': 454.0, 'OriginId': 67662, 'DepartureDate': '2017-11-12T00:00:00', 'DestinationId': 63907}]\n"
     ]
    }
   ],
   "source": [
    "k = 1430 # First Origin Index\n",
    "q = 84   # Second Origin Index\n",
    "\n",
    "\n",
    "country = marketcodes[4]\n",
    "currency = currcodes[45]\n",
    "originPlace1 = airportids[k]\n",
    "originPlace2 = airportids[q]\n",
    "destinationPlace = \"anywhere\"\n",
    "outboundPartialDate = \"2017-11-12\"\n",
    "quotearray = []\n",
    "\n",
    "params1 = [country, currency, locale, originPlace1, destinationPlace, outboundPartialDate]\n",
    "requrl1=basicurl\n",
    "for element in params1:\n",
    "    requrl1 = requrl1 + '/' + element\n",
    "requrl1 = requrl1 + '?apiKey=' + api_key\n",
    "\n",
    "params2 = [country, currency, locale, originPlace2, destinationPlace, outboundPartialDate]\n",
    "requrl2=basicurl\n",
    "for element in params2:\n",
    "    requrl2 = requrl2 + '/' + element\n",
    "requrl2 = requrl2 + '?apiKey=' + api_key\n",
    "\n",
    "qdict1 = quotesDict(requrl1)\n",
    "qdict2 = quotesDict(requrl2)\n",
    "\n",
    "print(qdict1)"
   ]
  },
  {
   "cell_type": "code",
   "execution_count": null,
   "metadata": {
    "collapsed": true
   },
   "outputs": [],
   "source": [
    "destinationsfrom1 = []\n",
    "destinationsfrom2 = []\n",
    "for element in qdict1:\n",
    "    destinationsfrom1.append(element[\"DestinationID\"])\n",
    "for element in qdict2:\n",
    "    destinationsfrom2.append(element[\"DestinationID\"])\n",
    "    \n",
    "mutualdestinations = []\n",
    "for element in destinationsfrom1:\n",
    "    "
   ]
  }
 ],
 "metadata": {
  "kernelspec": {
   "display_name": "Python 3",
   "language": "python",
   "name": "python3"
  },
  "language_info": {
   "codemirror_mode": {
    "name": "ipython",
    "version": 3
   },
   "file_extension": ".py",
   "mimetype": "text/x-python",
   "name": "python",
   "nbconvert_exporter": "python",
   "pygments_lexer": "ipython3",
   "version": "3.6.2"
  }
 },
 "nbformat": 4,
 "nbformat_minor": 2
}
